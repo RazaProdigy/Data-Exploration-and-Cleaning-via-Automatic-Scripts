{
  "nbformat": 4,
  "nbformat_minor": 0,
  "metadata": {
    "colab": {
      "name": "Test.ipynb",
      "provenance": [],
      "collapsed_sections": []
    },
    "kernelspec": {
      "name": "python3",
      "display_name": "Python 3"
    },
    "language_info": {
      "name": "python"
    },
    "accelerator": "GPU"
  },
  "cells": [
    {
      "cell_type": "code",
      "source": [
        "#@title Imports and function definitions\n",
        "\n",
        "# For running inference on the TF-Hub module.\n",
        "import tensorflow as tf\n",
        "\n",
        "import tensorflow_hub as hub\n",
        "\n",
        "# For downloading the image.\n",
        "import matplotlib.pyplot as plt\n",
        "import tempfile\n",
        "from six.moves.urllib.request import urlopen\n",
        "from six import BytesIO\n",
        "\n",
        "# For drawing onto the image.\n",
        "import numpy as np\n",
        "from PIL import Image\n",
        "from PIL import ImageColor\n",
        "from PIL import ImageDraw\n",
        "from PIL import ImageFont\n",
        "from PIL import ImageOps\n",
        "\n",
        "# For measuring the inference time.\n",
        "import time\n",
        "import os\n",
        "\n",
        "# Print Tensorflow version\n",
        "print(tf.__version__)\n",
        "\n",
        "# Check available GPU devices.\n",
        "print(\"The following GPU devices are available: %s\" % tf.test.gpu_device_name())"
      ],
      "metadata": {
        "id": "fMCmi-UP08lq"
      },
      "execution_count": null,
      "outputs": []
    },
    {
      "cell_type": "markdown",
      "source": [
        ""
      ],
      "metadata": {
        "id": "lpKqjLtI1BfO"
      }
    },
    {
      "cell_type": "code",
      "source": [
        "!wget http://images.cocodataset.org/zips/val2017.zip\n",
        "!wget http://images.cocodataset.org/annotations/annotations_trainval2017.zip\n",
        "!wget http://images.cocodataset.org/annotations/stuff_annotations_trainval2017.zip\n"
      ],
      "metadata": {
        "id": "CAwzGfZF2uV2"
      },
      "execution_count": null,
      "outputs": []
    },
    {
      "cell_type": "code",
      "source": [
        "%%capture\n",
        "!unzip val2017.zip\n",
        "\n",
        "!unzip stuff_annotations_trainval2017.zip\n",
        "\n",
        "!unzip annotations_trainval2017.zip"
      ],
      "metadata": {
        "id": "mNU0AtTg2uYO"
      },
      "execution_count": 3,
      "outputs": []
    },
    {
      "cell_type": "code",
      "source": [
        "#function to display any image\n",
        "def display_image(image):\n",
        "  fig = plt.figure(figsize=(10, 15))\n",
        "  plt.grid(False)\n",
        "  plt.imshow(image)\n"
      ],
      "metadata": {
        "id": "JUEeA6uaA3dz"
      },
      "execution_count": 4,
      "outputs": []
    },
    {
      "cell_type": "code",
      "source": [
        "#Draw the bounding boxes on image\n",
        "def draw_bounding_box_on_image(image,\n",
        "                               ymin,\n",
        "                               xmin,\n",
        "                               ymax,\n",
        "                               xmax,\n",
        "                               color,\n",
        "                               font,\n",
        "                               thickness=4,\n",
        "                               display_str_list=()):\n",
        "  \"\"\"Adds a bounding box to an image.\"\"\"\n",
        "  draw = ImageDraw.Draw(image)\n",
        "  im_width, im_height = image.size\n",
        "  (left, right, top, bottom) = (xmin * im_width, xmax * im_width,\n",
        "                                ymin * im_height, ymax * im_height)\n",
        "  draw.line([(left, top), (left, bottom), (right, bottom), (right, top),\n",
        "             (left, top)],\n",
        "            width=thickness,\n",
        "            fill=color)\n",
        "\n",
        "  # If the total height of the display strings added to the top of the bounding\n",
        "  # box exceeds the top of the image, stack the strings below the bounding box\n",
        "  # instead of above.\n",
        "  display_str_heights = [font.getsize(ds)[1] for ds in display_str_list]\n",
        "  # Each display_str has a top and bottom margin of 0.05x.\n",
        "  total_display_str_height = (1 + 2 * 0.05) * sum(display_str_heights)\n",
        "\n",
        "  if top > total_display_str_height:\n",
        "    text_bottom = top\n",
        "  else:\n",
        "    text_bottom = top + total_display_str_height\n",
        "  # Reverse list and print from bottom to top.\n",
        "  for display_str in display_str_list[::-1]:\n",
        "    text_width, text_height = font.getsize(display_str)\n",
        "    margin = np.ceil(0.05 * text_height)\n",
        "    draw.rectangle([(left, text_bottom - text_height - 2 * margin),\n",
        "                    (left + text_width, text_bottom)],\n",
        "                   fill=color)\n",
        "    draw.text((left + margin, text_bottom - text_height - margin),\n",
        "              display_str,\n",
        "              fill=\"black\",\n",
        "              font=font)\n",
        "    text_bottom -= text_height - 2 * margin\n"
      ],
      "metadata": {
        "id": "DHgDUPFWL9vu"
      },
      "execution_count": 5,
      "outputs": []
    },
    {
      "cell_type": "code",
      "source": [
        "#Draw labels and bounding boxes on image\n",
        "def draw_boxes(image, boxes, class_names, scores, max_boxes=10, min_score=0.5):\n",
        "  \"\"\"Overlay labeled boxes on an image with formatted scores and label names.\"\"\"\n",
        "  count = 0\n",
        "  colors = list(ImageColor.colormap.values())\n",
        "\n",
        "  try:\n",
        "    font = ImageFont.truetype(\"/usr/share/fonts/truetype/liberation/LiberationSansNarrow-Regular.ttf\",\n",
        "                              14)\n",
        "  except IOError:\n",
        "    print(\"Font not found, using default font.\")\n",
        "    font = ImageFont.load_default()\n",
        "\n",
        "  for i in range(min(boxes.shape[0], max_boxes)):\n",
        "    if scores[i] >= min_score:\n",
        "      count = count + 1\n",
        "      ymin, xmin, ymax, xmax = tuple(boxes[i])\n",
        "      width = xmax - xmin\n",
        "      height = ymax - ymin\n",
        "      width_ft = (width * 13000) /1152\n",
        "      height_ft = (height * 13000) /1152\n",
        "      print(\"Object name: \", class_names[i].decode(\"ascii\"))\n",
        "      print(\"width of \" + class_names[i].decode(\"ascii\") + \" in pixels: \", width)\n",
        "      print(\"height of \" + class_names[i].decode(\"ascii\") + \" in pixels: \", height)\n",
        "      print(\"width of \" + class_names[i].decode(\"ascii\") + \" in feets: \", width_ft)\n",
        "      print(\"height of \" + class_names[i].decode(\"ascii\") + \" in feets: \", height_ft)\n",
        "      \n",
        "      display_str = \"{}: {}%\".format(class_names[i].decode(\"ascii\"),\n",
        "                                     int(100 * scores[i]))\n",
        "      color = colors[hash(class_names[i]) % len(colors)]\n",
        "      image_pil = Image.fromarray(np.uint8(image)).convert(\"RGB\")\n",
        "      draw_bounding_box_on_image(\n",
        "          image_pil,\n",
        "          ymin,\n",
        "          xmin,\n",
        "          ymax,\n",
        "          xmax,\n",
        "          color,\n",
        "          font,\n",
        "          display_str_list=[display_str])\n",
        "      np.copyto(image, np.array(image_pil))\n",
        "  return image, count"
      ],
      "metadata": {
        "id": "uWU9P2eAJloy"
      },
      "execution_count": 16,
      "outputs": []
    },
    {
      "cell_type": "code",
      "source": [
        "#run the detection on the image\n",
        "def run_detector(detector, path,filename):\n",
        "  img = load_img(path)\n",
        "\n",
        "  converted_img  = tf.image.convert_image_dtype(img, tf.float32)[tf.newaxis, ...]\n",
        "  start_time = time.time()\n",
        "  result = detector(converted_img)\n",
        "  end_time = time.time()\n",
        "\n",
        "  result = {key:value.numpy() for key,value in result.items()}\n",
        "  print(\"Inference time: \", end_time-start_time)\n",
        "\n",
        "  image_with_boxes, count = draw_boxes(\n",
        "      img.numpy(), result[\"detection_boxes\"],\n",
        "      result[\"detection_class_entities\"], result[\"detection_scores\"])\n",
        "\n",
        "  display_image(image_with_boxes)\n",
        "  print(\"Found %d objects.\" % count)\n",
        "  save_image(image_with_boxes,filename)"
      ],
      "metadata": {
        "id": "y4g8838xJsww"
      },
      "execution_count": 7,
      "outputs": []
    },
    {
      "cell_type": "code",
      "source": [
        "#Resize the image to a lower resolution than 300x300 pixels and save it in tmp folder\n",
        "def download_and_resize_image(img, new_width=256, new_height=256,\n",
        "                              display=False):\n",
        "  _, filename = tempfile.mkstemp(suffix=\".jpg\")\n",
        "  pil_image = Image.open(img)\n",
        "  pil_image = ImageOps.fit(pil_image, (new_width, new_height), Image.ANTIALIAS)\n",
        "  pil_image_rgb = pil_image.convert(\"RGB\")\n",
        "  pil_image_rgb.save(filename, format=\"JPEG\", quality=90)\n",
        "  print(\"Image downloaded to %s.\" % filename)\n",
        "  if display:\n",
        "    display_image(pil_image)\n",
        "  return filename\n"
      ],
      "metadata": {
        "id": "u8Ttw-Qw-R9z"
      },
      "execution_count": 8,
      "outputs": []
    },
    {
      "cell_type": "code",
      "source": [
        "#Save the detected image with bounding boxes in the specified folder \n",
        "def save_image(img,filename):\n",
        "  PATH = \"/content/Detected_images\"\n",
        "  PIL_img = Image.fromarray(np.uint8(img)).convert(\"RGB\")\n",
        "  target_path = os.path.join(PATH,filename)\n",
        "  PIL_img.save(target_path, format = \"JPEG\", quality = 90)\n"
      ],
      "metadata": {
        "id": "OkltdLf0fXEf"
      },
      "execution_count": 9,
      "outputs": []
    },
    {
      "cell_type": "code",
      "source": [
        "#Convert image to tensor\n",
        "def load_img(path):\n",
        "  img = tf.io.read_file(path)\n",
        "  img = tf.image.decode_jpeg(img, channels=3)\n",
        "  print(img)\n",
        "  return img"
      ],
      "metadata": {
        "id": "-IQn-2cKYuHb"
      },
      "execution_count": 10,
      "outputs": []
    },
    {
      "cell_type": "code",
      "source": [
        "#Loading the object detector\n",
        "module_handle = \"https://tfhub.dev/google/faster_rcnn/openimages_v4/inception_resnet_v2/1\"\n",
        "detector = hub.load(module_handle).signatures['default']\n"
      ],
      "metadata": {
        "id": "Sh2sexjBkx-1"
      },
      "execution_count": null,
      "outputs": []
    },
    {
      "cell_type": "code",
      "source": [
        "#Running detection on all images one by one\n",
        "path_images = \"/content/val2017\"\n",
        "for filename in os.listdir(path_images):\n",
        "  actual_img = os.path.join(path_images,filename)\n",
        "  base_name = os.path.basename(actual_img)\n",
        "  downloaded_image_path = download_and_resize_image(actual_img, 300, 256, False)\n",
        "  run_detector(detector, downloaded_image_path,base_name)\n",
        "  \n"
      ],
      "metadata": {
        "id": "UhGQCG37ba59"
      },
      "execution_count": null,
      "outputs": []
    }
  ]
}